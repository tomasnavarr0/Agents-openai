{
 "cells": [
  {
   "cell_type": "code",
   "execution_count": null,
   "metadata": {},
   "outputs": [],
   "source": [
    "import os\n",
    "os.chdir(\"../..\")"
   ]
  },
  {
   "cell_type": "code",
   "execution_count": null,
   "metadata": {},
   "outputs": [],
   "source": [
    "\n",
    "from openai import OpenAI\n",
    "import json\n",
    "from app.settings import Settings\n",
    "from playwright.async_api import async_playwright\n",
    "import re\n",
    "from urllib.parse import urlparse"
   ]
  },
  {
   "cell_type": "code",
   "execution_count": null,
   "metadata": {},
   "outputs": [],
   "source": [
    "client = OpenAI(api_key=Settings.OPENAI_API_KEY)\n",
    "MODEL = \"gpt-4o-mini\""
   ]
  },
  {
   "cell_type": "code",
   "execution_count": null,
   "metadata": {},
   "outputs": [],
   "source": [
    "async def visit_webpage(url: str) -> str:\n",
    "    async with async_playwright() as p:\n",
    "        browser = await p.chromium.launch(headless=True)\n",
    "        page = await browser.new_page()\n",
    "\n",
    "        parsed_url = urlparse(url)\n",
    "        domain = parsed_url.netloc if parsed_url.netloc else url \n",
    "        match = re.search(r\"www\\.(.+?)\\.com\", domain)\n",
    "        if match:\n",
    "            subdomain = match.group(1)\n",
    "            screenshot_path = f\"screenshot_{subdomain}.png\"\n",
    "        else:\n",
    "            screenshot_path = \"screenshot_default.png\"\n",
    "        \n",
    "        await page.goto(f\"https://{url}\")\n",
    "        await page.wait_for_load_state(\"networkidle\")\n",
    "\n",
    "        await page.screenshot(path=screenshot_path)\n",
    "        content = await page.content()\n",
    "        await browser.close()\n",
    "        return f\"Página visitada. Captura: {screenshot_path}. HTML: {len(content)} caracteres.\""
   ]
  },
  {
   "cell_type": "code",
   "execution_count": null,
   "metadata": {},
   "outputs": [],
   "source": [
    "tools = [\n",
    "    {\n",
    "        \"type\": \"function\",\n",
    "        \"function\": {\n",
    "            \"name\": \"visit_webpage\",\n",
    "            \"description\": \"Visitar una pagina web especifica\",\n",
    "            \"parameters\": {\n",
    "                \"type\": \"object\",\n",
    "                \"properties\": {\n",
    "                    \"url\": {\n",
    "                        \"type\": \"string\",\n",
    "                        \"description\": \"La url de la pagina a visitar. Ej: www.test.com\"\n",
    "                    }\n",
    "                },\n",
    "                \"required\": [\"url\"]\n",
    "            }\n",
    "        }\n",
    "    }\n",
    "]\n"
   ]
  },
  {
   "cell_type": "code",
   "execution_count": null,
   "metadata": {},
   "outputs": [],
   "source": [
    "assistant = client.beta.assistants.create(\n",
    "    name=\"Asistente Personalizado\",\n",
    "    instructions=\"Eres un asistente útil que puede usar herramientas. Mantén conversaciones naturales y amigables.\",\n",
    "    tools=tools,\n",
    "    model=MODEL\n",
    ")"
   ]
  },
  {
   "cell_type": "code",
   "execution_count": null,
   "metadata": {},
   "outputs": [],
   "source": [
    "async def handle_tool_call(tool_call: dict[str, Any]) -> str:\n",
    "    function_name = tool_call.function.name\n",
    "    arguments = json.loads(tool_call.function.arguments)\n",
    "    \n",
    "    if function_name == \"visit_webpage\":\n",
    "        return await visit_webpage(url=arguments['url'])\n",
    "    \n",
    "    return \"Función no implementada\""
   ]
  },
  {
   "cell_type": "code",
   "execution_count": null,
   "metadata": {},
   "outputs": [],
   "source": [
    "async def chat_loop():\n",
    "    thread = client.beta.threads.create()\n",
    "    \n",
    "    print(\"¡Hola! Soy tu asistente de IA. Escribe 'exit' para terminar.\\n\")\n",
    "    \n",
    "    while True:\n",
    "        user_input = input(\"Tú: \")\n",
    "        \n",
    "        if user_input.lower() == 'exit':\n",
    "            print(\"¡Hasta luego!\")\n",
    "            break\n",
    "        \n",
    "        client.beta.threads.messages.create(\n",
    "            thread_id=thread.id,\n",
    "            role=\"user\",\n",
    "            content=user_input\n",
    "        )\n",
    "        \n",
    "        run = client.beta.threads.runs.create(\n",
    "            thread_id=thread.id,\n",
    "            assistant_id=assistant.id,\n",
    "            instructions=\"Responde de manera natural como humano.\"\n",
    "        )\n",
    "        \n",
    "        while True:\n",
    "            run_status = client.beta.threads.runs.retrieve(\n",
    "                thread_id=thread.id,\n",
    "                run_id=run.id\n",
    "            )\n",
    "            \n",
    "            if run_status.status == 'completed':\n",
    "                messages = client.beta.threads.messages.list(\n",
    "                    thread_id=thread.id\n",
    "                )\n",
    "                \n",
    "                last_message = messages.data[0].content[0].text.value\n",
    "                print(f\"\\nAsistente: {last_message}\\n\")\n",
    "                break\n",
    "                \n",
    "            elif run_status.status == 'requires_action':\n",
    "                tool_outputs = []\n",
    "                for tool_call in run_status.required_action.submit_tool_outputs.tool_calls:\n",
    "                    output = await handle_tool_call(tool_call)\n",
    "                    tool_outputs.append({\n",
    "                        \"tool_call_id\": tool_call.id,\n",
    "                        \"output\": output\n",
    "                    })\n",
    "                \n",
    "                client.beta.threads.runs.submit_tool_outputs(\n",
    "                    thread_id=thread.id,\n",
    "                    run_id=run.id,\n",
    "                    tool_outputs=tool_outputs\n",
    "                )"
   ]
  },
  {
   "cell_type": "code",
   "execution_count": null,
   "metadata": {},
   "outputs": [],
   "source": [
    "await chat_loop()"
   ]
  }
 ],
 "metadata": {
  "kernelspec": {
   "display_name": "Agents-openai-z6qCqrOp",
   "language": "python",
   "name": "python3"
  },
  "language_info": {
   "codemirror_mode": {
    "name": "ipython",
    "version": 3
   },
   "file_extension": ".py",
   "mimetype": "text/x-python",
   "name": "python",
   "nbconvert_exporter": "python",
   "pygments_lexer": "ipython3",
   "version": "3.12.3"
  }
 },
 "nbformat": 4,
 "nbformat_minor": 2
}
